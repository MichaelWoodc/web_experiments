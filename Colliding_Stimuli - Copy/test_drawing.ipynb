{
 "cells": [
  {
   "cell_type": "code",
   "execution_count": 1,
   "metadata": {},
   "outputs": [
    {
     "name": "stdout",
     "output_type": "stream",
     "text": [
      "pygame 2.6.0 (SDL 2.28.4, Python 3.12.5)\n",
      "Hello from the pygame community. https://www.pygame.org/contribute.html\n"
     ]
    },
    {
     "ename": "SystemExit",
     "evalue": "",
     "output_type": "error",
     "traceback": [
      "An exception has occurred, use %tb to see the full traceback.\n",
      "\u001b[1;31mSystemExit\u001b[0m\n"
     ]
    },
    {
     "name": "stderr",
     "output_type": "stream",
     "text": [
      "C:\\Users\\Admin\\AppData\\Roaming\\Python\\Python312\\site-packages\\IPython\\core\\interactiveshell.py:3585: UserWarning: To exit: use 'exit', 'quit', or Ctrl-D.\n",
      "  warn(\"To exit: use 'exit', 'quit', or Ctrl-D.\", stacklevel=1)\n"
     ]
    }
   ],
   "source": [
    "import pygame\n",
    "import sys\n",
    "\n",
    "# Initialize Pygame\n",
    "pygame.init()\n",
    "\n",
    "# Constants\n",
    "SCREEN_WIDTH, SCREEN_HEIGHT = 800, 600\n",
    "INITIAL_FONT_SIZE = 20\n",
    "FONT_GROWTH = 2\n",
    "FADE_SPEED = 5\n",
    "TEXT_LIFETIME = 60  # Frames\n",
    "\n",
    "# Set up the screen\n",
    "screen = pygame.display.set_mode((SCREEN_WIDTH, SCREEN_HEIGHT))\n",
    "pygame.display.set_caption(\"Click +1 Example\")\n",
    "\n",
    "# Clock\n",
    "clock = pygame.time.Clock()\n",
    "\n",
    "# List to hold active \"+1\" texts\n",
    "plus_ones = []\n",
    "\n",
    "class PlusOne:\n",
    "    def __init__(self, x, y):\n",
    "        self.x = x\n",
    "        self.y = y\n",
    "        self.size = INITIAL_FONT_SIZE\n",
    "        self.alpha = 255\n",
    "        self.lifetime = TEXT_LIFETIME\n",
    "        self.font = pygame.font.Font(None, self.size)\n",
    "\n",
    "    def update(self):\n",
    "        # Increase font size for the growth effect\n",
    "        self.size += FONT_GROWTH\n",
    "        self.font = pygame.font.Font(None, self.size)\n",
    "        \n",
    "        # Fade out by decreasing alpha\n",
    "        self.alpha -= FADE_SPEED\n",
    "        if self.alpha < 0:\n",
    "            self.alpha = 0\n",
    "        \n",
    "        # Decrease lifetime\n",
    "        self.lifetime -= 1\n",
    "        \n",
    "        # Move up slightly\n",
    "        self.y -= 1\n",
    "\n",
    "    def render(self, surface):\n",
    "        text = self.font.render(\"+1\", True, (255, 255, 255))\n",
    "        text.set_alpha(self.alpha)\n",
    "        text_rect = text.get_rect(center=(self.x, self.y))\n",
    "        surface.blit(text, text_rect)\n",
    "\n",
    "# Main loop\n",
    "while True:\n",
    "    for event in pygame.event.get():\n",
    "        if event.type == pygame.QUIT:\n",
    "            pygame.quit()\n",
    "            sys.exit()\n",
    "\n",
    "        if event.type == pygame.MOUSEBUTTONDOWN:\n",
    "            # Create a new PlusOne object at the mouse click location\n",
    "            x, y = event.pos\n",
    "            plus_ones.append(PlusOne(x, y))\n",
    "\n",
    "    # Update \"+1\" texts\n",
    "    for plus_one in plus_ones[:]:\n",
    "        plus_one.update()\n",
    "        if plus_one.lifetime <= 0 or plus_one.alpha <= 0:\n",
    "            plus_ones.remove(plus_one)\n",
    "\n",
    "    # Render\n",
    "    screen.fill((0, 0, 0))  # Clear screen\n",
    "    for plus_one in plus_ones:\n",
    "        plus_one.render(screen)\n",
    "\n",
    "    pygame.display.flip()\n",
    "    clock.tick(60)  # Cap the frame rate at 60 FPS\n"
   ]
  }
 ],
 "metadata": {
  "kernelspec": {
   "display_name": "Python 3",
   "language": "python",
   "name": "python3"
  },
  "language_info": {
   "codemirror_mode": {
    "name": "ipython",
    "version": 3
   },
   "file_extension": ".py",
   "mimetype": "text/x-python",
   "name": "python",
   "nbconvert_exporter": "python",
   "pygments_lexer": "ipython3",
   "version": "3.12.5"
  }
 },
 "nbformat": 4,
 "nbformat_minor": 2
}
